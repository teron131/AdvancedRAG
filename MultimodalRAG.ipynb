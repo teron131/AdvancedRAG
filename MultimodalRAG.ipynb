{
 "cells": [
  {
   "cell_type": "code",
   "execution_count": 1,
   "metadata": {},
   "outputs": [],
   "source": [
    "! pip install --quiet -U pdf2image pytesseract unstructured[all-docs] pillow pydantic lxml pillow matplotlib tiktoken open_clip_torch torch langchain openai chromadb langchain-experimental\n",
    "#! apt install poppler-utils\n",
    "#! apt install tesseract-ocr"
   ]
  },
  {
   "cell_type": "code",
   "execution_count": 2,
   "metadata": {},
   "outputs": [],
   "source": [
    "path = \"LLaVA/\"\n",
    "filename = \"LLaVA.pdf\""
   ]
  },
  {
   "cell_type": "code",
   "execution_count": 3,
   "metadata": {},
   "outputs": [
    {
     "name": "stderr",
     "output_type": "stream",
     "text": [
      "This function will be deprecated in a future release and `unstructured` will simply use the DEFAULT_MODEL from `unstructured_inference.model.base` to set default model name\n",
      "2024-03-04 02:03:37.292246: I tensorflow/core/util/port.cc:113] oneDNN custom operations are on. You may see slightly different numerical results due to floating-point round-off errors from different computation orders. To turn them off, set the environment variable `TF_ENABLE_ONEDNN_OPTS=0`.\n",
      "2024-03-04 02:03:37.326976: E external/local_xla/xla/stream_executor/cuda/cuda_dnn.cc:9261] Unable to register cuDNN factory: Attempting to register factory for plugin cuDNN when one has already been registered\n",
      "2024-03-04 02:03:37.326998: E external/local_xla/xla/stream_executor/cuda/cuda_fft.cc:607] Unable to register cuFFT factory: Attempting to register factory for plugin cuFFT when one has already been registered\n",
      "2024-03-04 02:03:37.328517: E external/local_xla/xla/stream_executor/cuda/cuda_blas.cc:1515] Unable to register cuBLAS factory: Attempting to register factory for plugin cuBLAS when one has already been registered\n",
      "2024-03-04 02:03:37.336453: I tensorflow/core/platform/cpu_feature_guard.cc:182] This TensorFlow binary is optimized to use available CPU instructions in performance-critical operations.\n",
      "To enable the following instructions: AVX2 AVX512F AVX512_VNNI FMA, in other operations, rebuild TensorFlow with the appropriate compiler flags.\n",
      "2024-03-04 02:03:38.064786: W tensorflow/compiler/tf2tensorrt/utils/py_utils.cc:38] TF-TRT Warning: Could not find TensorRT\n",
      "Some weights of the model checkpoint at microsoft/table-transformer-structure-recognition were not used when initializing TableTransformerForObjectDetection: ['model.backbone.conv_encoder.model.layer2.0.downsample.1.num_batches_tracked', 'model.backbone.conv_encoder.model.layer3.0.downsample.1.num_batches_tracked', 'model.backbone.conv_encoder.model.layer4.0.downsample.1.num_batches_tracked']\n",
      "- This IS expected if you are initializing TableTransformerForObjectDetection from the checkpoint of a model trained on another task or with another architecture (e.g. initializing a BertForSequenceClassification model from a BertForPreTraining model).\n",
      "- This IS NOT expected if you are initializing TableTransformerForObjectDetection from the checkpoint of a model that you expect to be exactly identical (initializing a BertForSequenceClassification model from a BertForSequenceClassification model).\n"
     ]
    },
    {
     "name": "stdout",
     "output_type": "stream",
     "text": [
      "4\n",
      "31\n"
     ]
    }
   ],
   "source": [
    "import os\n",
    "from typing import Any\n",
    "\n",
    "from pydantic import BaseModel\n",
    "from unstructured.partition.pdf import partition_pdf\n",
    "\n",
    "# Extract images, tables, and chunk text\n",
    "raw_pdf_elements = partition_pdf(\n",
    "    filename=os.path.join(path, filename),\n",
    "    extract_images_in_pdf=True,\n",
    "    infer_table_structure=True,\n",
    "    chunking_strategy=\"by_title\",\n",
    "    max_characters=4000,\n",
    "    new_after_n_chars=3800,\n",
    "    combine_text_under_n_chars=2000,\n",
    "    extract_image_block_output_dir=path,\n",
    ")\n",
    "\n",
    "# Create a dictionary to store counts of each type\n",
    "category_counts = {}\n",
    "\n",
    "for element in raw_pdf_elements:\n",
    "    category = str(type(element))\n",
    "    if category in category_counts:\n",
    "        category_counts[category] += 1\n",
    "    else:\n",
    "        category_counts[category] = 1\n",
    "\n",
    "# Unique_categories will have unique elements\n",
    "unique_categories = set(category_counts.keys())\n",
    "\n",
    "\n",
    "class Element(BaseModel):\n",
    "    type: str\n",
    "    text: Any\n",
    "\n",
    "\n",
    "# Categorize by type\n",
    "categorized_elements = []\n",
    "for element in raw_pdf_elements:\n",
    "    if \"unstructured.documents.elements.Table\" in str(type(element)):\n",
    "        categorized_elements.append(Element(type=\"table\", text=str(element)))\n",
    "    elif \"unstructured.documents.elements.CompositeElement\" in str(type(element)):\n",
    "        categorized_elements.append(Element(type=\"text\", text=str(element)))\n",
    "\n",
    "# Tables\n",
    "table_elements = [e for e in categorized_elements if e.type == \"table\"]\n",
    "print(len(table_elements))\n",
    "\n",
    "# Text\n",
    "text_elements = [e for e in categorized_elements if e.type == \"text\"]\n",
    "print(len(text_elements))"
   ]
  },
  {
   "cell_type": "code",
   "execution_count": 4,
   "metadata": {},
   "outputs": [
    {
     "name": "stdout",
     "output_type": "stream",
     "text": [
      "Tokens Used: 28463\n",
      "\tPrompt Tokens: 21709\n",
      "\tCompletion Tokens: 6754\n",
      "Successful Requests: 31\n",
      "Total Cost (USD): $0.41970999999999997\n",
      "\n",
      "Tokens Used: 1938\n",
      "\tPrompt Tokens: 1037\n",
      "\tCompletion Tokens: 901\n",
      "Successful Requests: 4\n",
      "Total Cost (USD): $0.0374\n",
      "\n"
     ]
    }
   ],
   "source": [
    "from langchain.prompts import ChatPromptTemplate\n",
    "from langchain_openai.chat_models import ChatOpenAI\n",
    "from langchain_core.output_parsers import StrOutputParser\n",
    "from langchain_community.callbacks.manager import get_openai_callback\n",
    "\n",
    "\n",
    "# Prompt\n",
    "prompt_text = \"\"\"You are an assistant tasked with summarizing tables and text. \\\n",
    "Give a concise summary of the table or text. Table or text chunk: {element} \"\"\"\n",
    "prompt = ChatPromptTemplate.from_template(prompt_text)\n",
    "\n",
    "# Summary chain\n",
    "model = ChatOpenAI(model=\"gpt-4-turbo-preview\", temperature=0)\n",
    "summarize_chain = {\"element\": lambda x: x} | prompt | model | StrOutputParser()\n",
    "\n",
    "# Apply to texts\n",
    "texts = [i.text for i in text_elements]\n",
    "with get_openai_callback() as callback:\n",
    "    text_summaries = summarize_chain.batch(texts)\n",
    "    print(callback, end=\"\\n\\n\")\n",
    "\n",
    "# Apply to tables\n",
    "tables = [i.text for i in table_elements]\n",
    "with get_openai_callback() as callback:\n",
    "    table_summaries = summarize_chain.batch(tables)\n",
    "    print(callback, end=\"\\n\\n\")"
   ]
  },
  {
   "cell_type": "code",
   "execution_count": 5,
   "metadata": {},
   "outputs": [],
   "source": [
    "import uuid\n",
    "\n",
    "from langchain.retrievers.multi_vector import MultiVectorRetriever\n",
    "from langchain.storage.in_memory import InMemoryStore\n",
    "from langchain_community.vectorstores.chroma import Chroma\n",
    "from langchain_core.documents import Document\n",
    "from langchain_openai.embeddings import OpenAIEmbeddings\n",
    "\n",
    "# The text_vectorstore to use to index the child chunks\n",
    "text_vectorstore = Chroma(\n",
    "    collection_name=str(path.replace(\"/\", \"_\")) + \"text_vectorstore\",\n",
    "    embedding_function=OpenAIEmbeddings(),\n",
    ")\n",
    "\n",
    "# The storage layer for the parent documents\n",
    "store = InMemoryStore()\n",
    "id_key = \"doc_id\"\n",
    "\n",
    "# The text_retriever (empty to start)\n",
    "text_retriever = MultiVectorRetriever(\n",
    "    vectorstore=text_vectorstore,\n",
    "    docstore=store,\n",
    "    id_key=id_key,\n",
    "    # search_kwargs={\"k\": 3},\n",
    ")\n",
    "\n",
    "# Add texts\n",
    "doc_ids = [str(uuid.uuid4()) for _ in texts]\n",
    "summary_texts = [Document(page_content=s, metadata={id_key: doc_ids[i]}) for i, s in enumerate(text_summaries)]\n",
    "text_retriever.vectorstore.add_documents(summary_texts)\n",
    "text_retriever.docstore.mset(list(zip(doc_ids, texts)))\n",
    "\n",
    "# Add tables\n",
    "table_ids = [str(uuid.uuid4()) for _ in tables]\n",
    "summary_tables = [Document(page_content=s, metadata={id_key: table_ids[i]}) for i, s in enumerate(table_summaries)]\n",
    "text_retriever.vectorstore.add_documents(summary_tables)\n",
    "text_retriever.docstore.mset(list(zip(table_ids, tables)))"
   ]
  },
  {
   "cell_type": "code",
   "execution_count": 6,
   "metadata": {},
   "outputs": [],
   "source": [
    "from langchain_experimental.open_clip import OpenCLIPEmbeddings\n",
    "\n",
    "\n",
    "# Create chroma\n",
    "image_vectorstore = Chroma(\n",
    "    collection_name=str(path.replace(\"/\", \"_\")) + \"image_vectorstore\",\n",
    "    embedding_function=OpenCLIPEmbeddings(),\n",
    ")\n",
    "\n",
    "# Add images\n",
    "# Get image URIs with .jpg extension only\n",
    "image_uris = sorted([os.path.join(path, image_name) for image_name in os.listdir(path) if image_name.endswith(\".jpg\")])\n",
    "image_vectorstore.add_images(uris=image_uris)\n",
    "\n",
    "# Make retriever\n",
    "image_retriever = image_vectorstore.as_retriever(\n",
    "    # search_kwargs={\"k\": 3},\n",
    ")"
   ]
  },
  {
   "cell_type": "code",
   "execution_count": null,
   "metadata": {},
   "outputs": [],
   "source": [
    "text_retriever.get_relevant_documents(\"\")"
   ]
  },
  {
   "cell_type": "code",
   "execution_count": null,
   "metadata": {},
   "outputs": [],
   "source": [
    "image_retriever.get_relevant_documents(\"\")"
   ]
  },
  {
   "cell_type": "code",
   "execution_count": null,
   "metadata": {},
   "outputs": [],
   "source": [
    "from langchain.retrievers import EnsembleRetriever\n",
    "\n",
    "ensemble_retriever = EnsembleRetriever(retrievers=[text_retriever, image_retriever], weights=[0.5, 0.5])\n",
    "ensemble_retriever.get_relevant_documents(\"related work\")"
   ]
  },
  {
   "cell_type": "code",
   "execution_count": 24,
   "metadata": {},
   "outputs": [],
   "source": [
    "import base64\n",
    "import io\n",
    "\n",
    "from PIL import Image\n",
    "\n",
    "\n",
    "def resize_base64_image(base64_string, size=(128, 128)):\n",
    "    \"\"\"\n",
    "    Resize an image encoded as a Base64 string.\n",
    "\n",
    "    Args:\n",
    "    base64_string (str): Base64 string of the original image.\n",
    "    size (tuple): Desired size of the image as (width, height).\n",
    "\n",
    "    Returns:\n",
    "    str: Base64 string of the resized image.\n",
    "    \"\"\"\n",
    "    # Decode the Base64 string\n",
    "    img_data = base64.b64decode(base64_string)\n",
    "    img = Image.open(io.BytesIO(img_data))\n",
    "\n",
    "    # Resize the image\n",
    "    resized_img = img.resize(size, Image.LANCZOS)\n",
    "\n",
    "    # Save the resized image to a bytes buffer\n",
    "    buffered = io.BytesIO()\n",
    "    resized_img.save(buffered, format=img.format)\n",
    "\n",
    "    # Encode the resized image to Base64\n",
    "    return base64.b64encode(buffered.getvalue()).decode(\"utf-8\")\n",
    "\n",
    "\n",
    "def is_base64(s):\n",
    "    \"\"\"Check if a string is Base64 encoded\"\"\"\n",
    "    try:\n",
    "        return base64.b64encode(base64.b64decode(s)) == s.encode()\n",
    "    except Exception:\n",
    "        return False\n",
    "\n",
    "\n",
    "def split_image_text_types(docs):\n",
    "    \"\"\"Split numpy array images and texts\"\"\"\n",
    "    images = []\n",
    "    text = []\n",
    "    for doc in docs:\n",
    "        doc = doc.page_content  # Extract Document contents\n",
    "        if is_base64(doc):\n",
    "            # Resize image to avoid OAI server error\n",
    "            images.append(resize_base64_image(doc, size=(250, 250)))  # base64 encoded str\n",
    "        else:\n",
    "            text.append(doc)\n",
    "    return {\"images\": images, \"texts\": text}"
   ]
  },
  {
   "cell_type": "code",
   "execution_count": 25,
   "metadata": {},
   "outputs": [],
   "source": [
    "from operator import itemgetter\n",
    "\n",
    "from langchain_openai.chat_models import ChatOpenAI\n",
    "from langchain_core.messages import HumanMessage\n",
    "from langchain_core.output_parsers import StrOutputParser\n",
    "from langchain_core.runnables import (\n",
    "    RunnableLambda,\n",
    "    RunnablePassthrough,\n",
    "    RunnableParallel,\n",
    ")\n",
    "\n",
    "\n",
    "def prompt_func(data_dict):\n",
    "    # Joining the context texts into a single string\n",
    "    formatted_texts = \"\\n\".join(data_dict[\"context\"][\"texts\"])\n",
    "    messages = []\n",
    "\n",
    "    # Adding image(s) to the messages if present\n",
    "    if data_dict[\"context\"][\"images\"]:\n",
    "        image_message = {\n",
    "            \"type\": \"image_url\",\n",
    "            \"image_url\": {\"url\": f\"data:image/jpeg;base64,{data_dict['context']['images'][0]}\"},\n",
    "        }\n",
    "        messages.append(image_message)\n",
    "\n",
    "    # Adding the text message for analysis\n",
    "    text_message = {\n",
    "        \"type\": \"text\",\n",
    "        \"text\": (\n",
    "            \"As a secretary, your task is to extract and interpret both textual and visual information from the document, leveraging the rich context provided. The content has been sourced based on specific keywords input by the user.\"\n",
    "            \"**If the document does not contain direct references or clear data relevant to the user's query, you must clearly state 'No sufficient reference available to provide an answer' and refrain from answering further.**\"\n",
    "            f\"Keywords provided by the user: {data_dict['question']}\\n\\n\"\n",
    "            \"Extracted content:\\n\"\n",
    "            f\"{formatted_texts}\"\n",
    "        ),\n",
    "    }\n",
    "    messages.append(text_message)\n",
    "\n",
    "    return [HumanMessage(content=messages)]"
   ]
  },
  {
   "cell_type": "code",
   "execution_count": 26,
   "metadata": {},
   "outputs": [],
   "source": [
    "model = ChatOpenAI(temperature=0, model=\"gpt-4-vision-preview\", max_tokens=4096)\n",
    "\n",
    "# RAG pipeline\n",
    "chain = {\n",
    "    \"context\": ensemble_retriever | RunnableLambda(split_image_text_types),\n",
    "    \"question\": RunnablePassthrough(),\n",
    "} | RunnableParallel(\n",
    "    {\n",
    "        \"response\": prompt_func | model | StrOutputParser(),\n",
    "        \"context\": itemgetter(\"context\"),\n",
    "    }\n",
    ")"
   ]
  },
  {
   "cell_type": "code",
   "execution_count": 27,
   "metadata": {},
   "outputs": [],
   "source": [
    "from IPython.display import HTML\n",
    "\n",
    "\n",
    "def plt_img_base64(img_base64):\n",
    "    # Create an HTML img tag with the base64 string as the source\n",
    "    image_html = f'<img src=\"data:image/jpeg;base64,{img_base64}\" />'\n",
    "\n",
    "    # Display the image by rendering the HTML\n",
    "    display(HTML(image_html))"
   ]
  },
  {
   "cell_type": "code",
   "execution_count": 28,
   "metadata": {},
   "outputs": [],
   "source": [
    "from langchain_community.callbacks.manager import get_openai_callback\n",
    "\n",
    "\n",
    "def displayRAG(question):\n",
    "    print(\"###QUESTION###\")\n",
    "    print(question, end=\"\\n\\n\")\n",
    "\n",
    "    with get_openai_callback() as callback:\n",
    "        response = chain.invoke(question)\n",
    "        print(callback, end=\"\\n\\n\")\n",
    "\n",
    "    print(\"###ANSWER###\")\n",
    "    print(response[\"response\"], end=\"\\n\\n\")\n",
    "\n",
    "    for i, image in enumerate(response[\"context\"][\"images\"]):\n",
    "        print(f\"###IMAGE{i+1}###\")\n",
    "        plt_img_base64(image)\n",
    "\n",
    "    for i, text in enumerate(response[\"context\"][\"texts\"]):\n",
    "        print(f\"###TEXT{i+1}###\")\n",
    "        print(text, end=\"\\n\\n\")"
   ]
  },
  {
   "cell_type": "code",
   "execution_count": 29,
   "metadata": {},
   "outputs": [
    {
     "name": "stdout",
     "output_type": "stream",
     "text": [
      "###QUESTION###\n",
      "What is the performance of LLaVA across multiple image domains / subjects?\n",
      "\n",
      "Tokens Used: 2544\n",
      "\tPrompt Tokens: 2147\n",
      "\tCompletion Tokens: 397\n",
      "Successful Requests: 1\n",
      "Total Cost (USD): $0.03338\n",
      "\n",
      "###ANSWER###\n",
      "Based on the extracted content, LLaVA (Language and Vision Assistant) appears to be a multimodal model that has been evaluated across multiple image domains or subjects using benchmarks such as LLaVA-Bench (COCO) and LLaVA-Bench (In-the-Wild). The performance of LLaVA is reported to be significantly better than other models like BLIP-2 and OpenFlamingo, particularly in tasks that involve complex reasoning and detailed descriptions.\n",
      "\n",
      "LLaVA-Bench (COCO) involved 30 images from the COCO-Val-2014 dataset with 90 questions generated to assess the model's alignment behavior and capabilities with consistent visual inputs. The results showed that instruction tuning improved the model's ability to follow user instructions by over 50 points, and adding detailed description and complex reasoning questions improved the model's overall capability by 7 points, with the best performance at 85.1%.\n",
      "\n",
      "LLaVA-Bench (In-the-Wild) was designed to be more challenging and to test the model's generalizability to novel domains. It included a diverse set of 24 images with 60 questions, including indoor and outdoor scenes, memes, paintings, sketches, etc. LLaVA achieved an impressive 81.7% performance on complex reasoning questions, with an overall score of 67.3%, even when compared to the text-only GPT-4 model that had access to ground-truth labels.\n",
      "\n",
      "The paper also mentions limitations of the LLaVA-Bench (In-the-Wild), providing examples where the model may fail due to the need for large knowledge coverage, multilingual understanding, or the ability to process high-resolution images.\n",
      "\n",
      "In conclusion, LLaVA demonstrates strong performance across multiple image domains, with significant improvements in instruction-following and visual reasoning capabilities when compared to other models. The paper suggests that LLaVA serves as a solid baseline for future work in developing more capable language and multimodal models.\n",
      "\n",
      "###IMAGE1###\n"
     ]
    },
    {
     "data": {
      "text/html": [
       "<img src=\"data:image/jpeg;base64,/9j/4AAQSkZJRgABAQAAAQABAAD/2wBDAAgGBgcGBQgHBwcJCQgKDBQNDAsLDBkSEw8UHRofHh0aHBwgJC4nICIsIxwcKDcpLDAxNDQ0Hyc5PTgyPC4zNDL/2wBDAQkJCQwLDBgNDRgyIRwhMjIyMjIyMjIyMjIyMjIyMjIyMjIyMjIyMjIyMjIyMjIyMjIyMjIyMjIyMjIyMjIyMjL/wAARCAD6APoDASIAAhEBAxEB/8QAHwAAAQUBAQEBAQEAAAAAAAAAAAECAwQFBgcICQoL/8QAtRAAAgEDAwIEAwUFBAQAAAF9AQIDAAQRBRIhMUEGE1FhByJxFDKBkaEII0KxwRVS0fAkM2JyggkKFhcYGRolJicoKSo0NTY3ODk6Q0RFRkdISUpTVFVWV1hZWmNkZWZnaGlqc3R1dnd4eXqDhIWGh4iJipKTlJWWl5iZmqKjpKWmp6ipqrKztLW2t7i5usLDxMXGx8jJytLT1NXW19jZ2uHi4+Tl5ufo6erx8vP09fb3+Pn6/8QAHwEAAwEBAQEBAQEBAQAAAAAAAAECAwQFBgcICQoL/8QAtREAAgECBAQDBAcFBAQAAQJ3AAECAxEEBSExBhJBUQdhcRMiMoEIFEKRobHBCSMzUvAVYnLRChYkNOEl8RcYGRomJygpKjU2Nzg5OkNERUZHSElKU1RVVldYWVpjZGVmZ2hpanN0dXZ3eHl6goOEhYaHiImKkpOUlZaXmJmaoqOkpaanqKmqsrO0tba3uLm6wsPExcbHyMnK0tPU1dbX2Nna4uPk5ebn6Onq8vP09fb3+Pn6/9oADAMBAAIRAxEAPwD3KiiqN6upG+042TwC1EzG9Eg+Zo9h27Pfft/CgC7uGcZGfTNLXI+KLK1jvY5Vj/0u5iuDGQCWMwRBHt9DnFQxeJNRLxCa4iVZwSJY7csInBb924IBzkbc9Dz3HIB2mQTjIyKO+K89Or6nbXL3aXUG+SOOOeU2wC4YZ8w4z91mAPqG5q1q+q3un6/PMtwAyRhCjRZVEZEJI4zgNubv0IoA7fIzjIzjOM0oIPQ5rjdTvLuK8mKuk0kllEjERfK2VYsozyAw3N/wEVSg1XVLSwaPTV3LEzNsWEMWBP3hn/aOPwoA7/OaMiuFufEWo2k9zi5giQAs2+BV2kgHcx9RwOePWrGrazqFpfMlvdQIfLjZ2SBW3nYvf05OKAOyozXB/wDCWX8xby722iX5sGSLBALBQxXrhSRnGeOtax1W8j8UG0Vo/KLHdEIQC7eSCMt1znj9O1AHTUm4ZxkZ+tef2uv3YLul4I4BOZ5NtuSz7wSTjGNoYbSPUCtLw+6a1qP2u7WNpoo0kUou35g3U+p5NAHX0UUUAFFFFABRRRQAUUUUAFFFFABRRRQAUUUUAFFFFAGXrn+psP8AsI23/oddD2rntc/1Nh/2Ebb/ANDroe1AFKiiqN7bXs99p0tte+RBBMz3MW3P2hChAXPbDEN+FAE7X9pHcC3a7hWZm2iMyAMTjOMZ647VM8ojRpHk2ooyzE4AFcz4l0prm6ge2jlRjHNLJJDFuYsoQoM9iSox9MCquNfEchEt8yIjqcjLbgrMrAY5ztjHTq596AOwWVXZ1SQMyHDANkqcZwfQ4IP40jSqjIrSBS5wgLY3HGePwBP4VyOkzar/AGndSTx6hGrI8rL9n4lkEYUgMeBghdvr9M1Bd3OsyWelyGLUfMRC7OluzOhzIrMy9dwQqQOCc8UAdpNcRW6b55kiTP3nbA9e/wBP0pTIokWNpAHfO1SeTjrge1cJM2s7JbIx6nLGVlDmSAlZCS/Tg4ByOh9McYq3az6y92s0sV/JNHbzyReZblFVypyv1DABc9RjHFAHVTRwajaeWZWaJiCGhlKkFW7Mp4wRUyuiEQqwUhchAei9OnpXDW8+uW9s7W8eolI3bbbvbspaM7mDhj1fnlSB09cZfdSaysqpBeasDNI6w+bHgkgEoD8vAOMn8elAHYLBA9814rs0yr5TYkO0Y/2c43DceeuDUss0cEe+WVY0yBlmwMk4H61w4k8QCz8qJtTRUCKp8s79u0BuozkNtweuCfetOT+1LjV7Dzluvs6ywO4CEL9xTk4H97zAfwz2oA6cSqzuiyZZDhgG5U4zg+nBoMi7wjON5BIUnkgYyf1H51w1ousW+phEOpxxTTATP5LOAVIweex5UnOMY7Crkk+rT6vdrbXN2yx3DARhCqBA6KMMVxgqX6E8oe/FAHWs6ojO7BVUEkk8ADvQCCAQQQea4+zm1syStLLqTBrSU7ZLcqEkw2ABg5IYAA55HbBqq15r8MjPnVXDNxmElUwwPTb0xn/OaAO4kljhUNLIiAsFBY4yT0H1p9croDXepXB/tCS6ngVBIizW7Kgfdn7zAHcuOBjoQeRg11VABRRRQAUUUUAFFFFABRRRQAUUUUAFFFFAGXrn+psP+wjbf+h10Paue1z/AFNh/wBhG2/9Droe1AFKiiqN7p7Xd9p1yLueEWczSmKM/LPlCm1/YZz9RQAlxrWnWskkc1yFeNtrqFYlTjd2HTHJPQd6uowkjDqDtPTKkfoaxtZs7z7XFd6fEzSmCaAtHtDKz7CrnPBA2EHr16Vn2Wl6rFe2bz/ajB5yu+24G5Tj+PJOVyvQc/N9aAOrx7VA15bp5u6THlSLE/B+Vm27R+O5fzrlbOx10anPO0FxDlZlj8y4DIMq23+I/wAW3nGfpVSXR9WkVIfsF8bZ9rS77lN5XamVO1hyCOCPQc9yAd5g+hoHIyOc1wz6Rr6IWkW6uJkhKhkucBpNwG/G4A/Jjg/3T+Niz0zVYtKvImt71JCIkVEnj+aPdltmTw/L8n1H4AHW3E8drA007bI1xliDxkgD9SKWSBJHjaSPc0TbkJ/hbBGR+BI/GuGn03UnvDbJFdGVN8yBrnIeMydD82M846fw03+z/EX7yQWV6Hc7QDdD5BuDD+PBxz/nigDvEcSbtmTtbaeD1/rTZ547aMSSkhSwUYUkkk4AwK4n+xtaNoIFguY4lCKsa3GMIAA6jDdzgj/dP46R07U5dU0+aeOR4ongd8yDAwq5yM9VYOSe+7vQB0kc0csksaNuaIhXA7EjI/Q0y1t7eHzmtoRH5krNIVUjc/c//XrjYdF1WDUQUtbuOB5sSmG4VcgNlWGWPAPJ4zjP0qa+03WG1Wa5ht7uRVmZowLrapXeSBjdxx7cUAdng+hoK5BBXIPBBFcLpMOpS6nFHL9u3wSRrOqzphNoyM/MeAeCMZIbv2sXFhqkxmeykeeFZ5PLaK4/hV8leT1IJX2K9qAOttrWGzt0t7aFYoUGFRRwKEuYXupbZZAZolVnTByoPSuWurDW3+wCNbkKLeJJtkyq0cgyQdxJyN2N3BOBxnJFb2i27waXAJopo5yuZBOys4OScErxgZOPQYoA0KKKKACiiigAooooAKKKKACiiigAooooAy9c/wBTYf8AYRtv/Q66HtXPa5/qbD/sI23/AKHXQ9qAKVGQMc9aKpXml299fafdzGTzbCVpodrYG5kKHcO4wxoAgutetLS4lgeO5Z487tkWeAAS3XkDIGfU1opKjxrIGG1lDAk9iMisfxFpVxqkdsLZIxJEzMsrSbSmRtI6cqyllI9we1c//wAInqm/H2axEcUbCECYjB+bb/Dx97GR0HbjkA7rI9R0z17UhdR1ZR9SK52fR9Q86Y20VskQ04W8SmYnLgqdjEgkr8pG70PTrWddeEru4nDiCzKgsFQvwoLbh/D2B2fRR9KAO0LqP4l9OtRW11DdWsVzG37uVA67uDg+tcPp/hia4jS7W1tmVm2upmKFsSEOdwGQTgH32gd8hy+D9Q8ho2t7NsbTH+/OEOPmG3bjlsNn1H40AduGj89jtAdVA8wgcjPQH2I5FSbl4+ZeenPWuPPhfUCsrhoBKAwjLPksCHIVmA/vGP5uuB69ZNR8NXNwImtbW1R0ghhUPMSUVRJuUMQSQNy/XHbFAHTNdQpdRW5b55UZ1I6YUgHn/gQqXep4DL6dRXEReE9TRkXy7MQqGwBL0DDG3G3oD8/19+as2vhS7s7m2fdbzrBdiZCflKICvtycL+tAHUTXsEFxHC7YZldycjCKuMsx7DkD8aW1u4ry3WaInaxYANweCQePqK56Pw7drNfPIIH8+1nhVi3VmIwTxxkDn6DrVex8PXdld3FzcQW6wmGZh5c5yjlTk7QAG3A4Of7o/AA61RErs6iMM+CzDALY6ZPemtJBbxFmeOONcknIAHc/zribHwpO1tHMlrbrHOgcKk5RowYxtwQvOGzwePnJ9QXSeEtRlAaWGzecFt83mn584wdpXC8fLgccfgADsZryKGaOEh2kkV2UIM52AZH15qYOp/iGfTIyK5K28OajG8hkhtRvtpkJ+0M58x1KnqvRjhj6Zxg9aqP4W1OJpJIbezBdtzkSkNjcGyML14/WgDsrm8itY0d9zB5FjHljcck4H4e9WK5TwnYOrC/MEYikiwjicsclssNoAGDgHPXOR711dABRRRQAUUUUAFFFFABRRRQAUUUUAZeuf6mw/wCwjbf+h10Paue1z/U2H/YRtv8A0Ouh7UAUqazorKrMoLHCgnBY4zx68U6qd3pdpfXlhd3CFprCVprchiNrMhQ5HfhjQBWu9et7O4lhkguCYssxCjGwAFnHPIGRnvzT7HXLO/afy3VY4TgyPIm1u/HPpzz2NR6zpU2oMjQPGpME1rJvJ4STblhjqRt6d89awn8I3bpsZbB02kBWZ8A4UA424J4YHPY0AdXc31vaW8k8sqBYwCcMM5P3R9T29aIb62mgimWeILIiuuZF6Hp39ePrWNe6JeXFzqjxm0CXHk+QpyMbGz82B9eRnoKzF8G3RVUeS0Cq7suATs3Lt4G3sQGHuT+IB1xurfbu8+IjAP8ArB36d+9Mtr+2urKC7SVFimQOu5wMcZIPPUd/TFcdeeH7qzuEleK3minnX91GXGGJ3FchCAoxgE+33aty+F9QbS7ayQ2GI5ZHfO7BDKBx8vsSR9KAOlfUbZLiCHzFPnBirhgVGADyc9wRipFuYml2B0PTDB1IJ54HOc8Vxx8NX1srtM9sFO1Ifs6szK+RsO3bjg4yfQVpW3h26ttXjullhWGOfegDEsE3OSn3eRh+M8jjnjkA2JdUtIbryXlQBYzK7712xgNt559cj8OadbahBd2KXUJDB4zII9y7uOoPOAQeD6GsK28NXUEN2pktmaa3WMHnllI5PHcKCfc9+tR2Phe7tmu/MFkwmtnijKs/yMy7TxjGD1J68e9AHTLdW7ttW4hLDAKiRSQTxjr61HPqEEKxspM2+RUAhIYjJxk89ARya5OTwlqCF3iFhyxZ8btzDcG4IXrx+vvV7wppksH+nSQwossO1SGffknLcFVABwD0znI9yAdRRRRQAUUUUABJPU5ooooAKKKKACiiigAooooAKKKKACiiigDL1z/U2H/YRtv/AEOuh7Vz2uf6mw/7CNt/6HXQ9qAKVQzXdvbzW8M08ccty5SFGbBkYKWIHqcAn8KmqCeytbm4trieBJJrVzJA7DmNipUkfgSKAM671qa01OO0azRUkYhJZZwgcAKTtGOT82Me1Pk8RaaHiWG7gmLshIWTG2Nv4/pT9S06e8u7O5gmgje23486DzOW28jkYI2/rWJF4YuvPkiW88tbbYbaYwZ6g8fe5xwKANxNb093dPtluWCtIqo+4lFGScY/Sm6frtjqK4SeNZDM0SxlvmJGSOPdRnFZlj4UltHQvfo6rGyYWEr1Rl/vH+9n8Kl07w1LZapDeyXkMxQEFTbe5IKksdpyevpkUAX5df0uKEyHULYDaCu6TAORxz71J/bGnA7WvYA46qHzg4yayG8Kyi6ikh1ALDGrqsbw5I3Fj1DDjkDp/DULeDCVRftysqxmJlaE/MvO0ZDAggs3P06YoA6CXVLGBmWW7hQqoZgzYwpGQT7YFQNr+krbG4/tCAxBN+VbOQc4wPwNZOreHLq4aa7F88rx2wSNPLPmFlTB+YNzu5BGP4j7YSLwpMhkkS+jRpw5l/0X5v3iYcZ3ZxuwR6c9c5ABuvqtjHbC4a5TyySAc9SBnA96pReI7Qz2MEzJFJdRh+XOF3DcgyQMkjP0xUD+GTJaCFrzBMkjthDtw+0kKCePmUN17mmah4Ylv9g+3rGogjib9zkkr3HzcZx05oA0pdc02ARyS31skEiB0kMn3skjp6cHn2PpT/7a007T9vgO47R8/U7d2Py5rNuvDctylqBdwRGGERsI7bapOWJIUNwPm6c/WsqXwrepdxw/aVnSZGUzG2OIgAAufn7dRkYOMcHmgDov7esBevbyXMKL5EdxHIZOJEYkZHsOPzptt4h0+aFJJbmCEyMRGjScsMkDjHU4PFVL3w19rnt5fPgUwCIqhtgY9y7gflzjaVZhjscHnFQN4RZlUG/5VXAPld2TYe/spx7H14ANs6tp6orm8hCtGJAd3BU5wfxwfypItSjubuOK1AuISG8yaN8iMjoD9azp9Fa4uLdAfJktrZR5qQhYWbeGwEBzxtbjsH6mrOh6N/YsE8IuPNjdwY/k2lVAwAeTk+/FAGrRRRQAUUUUAFFFFABRRRQAUUUUAFFFFAGXrn+psP8AsI23/oddD2rntc/1Nh/2Ebb/ANDroe1AFKql1qVpZXdla3Euya+kaK3XBO9lUuR7cA9at0x4o5Hjd40ZoyWRmUEqSMEg9uCR+NAGVdX+prqn2G3t7bc6vLC0jNhkQKCDjoSzgD2zUMXii0a2txIxW6kRGZFhdlGdueQOBzgE8ZNad1YC5ura5SeSCaDcoZADuRsblOR/sqc9RisiDwjBA7ONQu2yiphgnAUqR/D/ALI/OgCaLxEjaK140bGdVXdGI2G1nxtBz/vLk/UipbPxFp93bhhKwlWATSR+WwZcnbjHXO7jHXketRRaAhsru1dpIhI0SLKrKzMIlUK+MYBOOmKIPDUdvbXcEd/dhbjawI2ZjcEEOvy9eF4ORx05NADp/FOlwAjfM77SwRIWycfhj257gihvFekiUxpNJIwfYdkTYHzbSc9OOv0Gain8J2s8jObq5Und02ngsWxyP7xY/jQPCsQeFzqF0zQ4EZZUOArEqPu84zj370AWb/Xbe2tUMW5p5kRoUaNiDubAzj8TjuFNQP4os7e/uoLvdDHAp+cxt8zKzBsHp2BHc8+lOPhi08u2jSWVFt0jRAMY+RiVOMcfeYY9D7Cm3PhiG4vXuxfXUUhm85NgT5GyTxkHPU9fWgCS51+C21YWruohEYYvsYksc/KCOOmD+OO9MXxPYteMiu3kIpDsYnDB9wUcEfdOevtRd+F7a9vZriS6nCzZDQlUZOV2t1GeR79apweFd9vHJPc3Mc6MSVVkO4LIWQEkHPQc+pz1oAuXniixitZGt5PMuPJ82OJkb5hx/Q5qaXxDYW189pPM3miUoNkDkL2+Y4x61SXwrHNaIrXNzallUvDEysqNhgcErz8rlfTgEc1Pd+GILy7nuGvLlGlfeQgX5T7HGaAJf+Em0rcqm4ZS23G6NhgltuOnXPUdRSXXiOxt/NAeQtBIUkTyWJJG7IHv8pwenFULDwzNa6kx+1TLDCyPFLiLdJwdwOFyAdzA/wDASDmrtz4Zsrm4upxJNHJdOHkKkHkAgYBHHUmgBbXxHaPpaXdyWjbzTC6rGxw/sMZIxg5preLNKEDyrJM5VQ2wQsGOQSBg9CQD1qvceHpobW3t7SZ5f9LE0kkix5UbNvQjBH059KWXwjBLEsR1G8ESMWVPkwCUCk/d9s/iR04oAsX3iS006/nhuGxHFECCqks0mT8o7HgD6E80yfXzJLHDpyxyzsdpimVkIO0kc9MdPzpbjwzDcahLeG9ukaUMGRdm3DLhxyM88H2I4pLLwxFZ3y3f266mdZPMxIE5OMc4AP8A+qgDbjLmJDIAHKjcB0BxzTqKKACiiigAooooAKKKKACiiigDL1z/AFNh/wBhG2/9Droe1c9rn+psP+wjbf8AoddD2oApVRvdUhsb7TrSRJWkv5mhiKLlVKoXJY9hhT+NXqKAMS8n1X+1hZQXMESyxyTxOYtxCoEG0/VnznrgVWs/FkclrZrLZ3T3UygFEVeW4yR83TkH8cda2ruwgvJIZJDIskJba0blThhhlOOoOBx7Cs1fCWlJKJALrcBjH2hsdMdPpQBG3iy22Qyx2tzJDJuG9QDlgPuAA8tkgfjQvim3y0jW12sZbaoZFBHDnd97JB2H3GPepE8J6XFEI0N4oVxIpF0+VbjkHPB4BPqQKkk8MabJ1+0jKFPluGHBJP55PWgCrd+Jxa39sJLeaO0eJXkZlAZd4yuQTkbSMH6+1S3HiWG2WCVrW8IniDiHylVlyWHOSOfl6fSrF54e0+/cNcidz5YjP75huA9fU+9LPoFjc+T5zXLmGMRqxnbcQM8se55PNAFRvFtgpUNFcAnBxtHAKhgevTkD9elTS+JLWGSBJIbhGmSN1DqFxvOApyeDnjmqj+EbZbqMW8kyWrBxOpuX3HIwMdff0IOCPStG40Cxupllm893WIQnMzYdf9odye5NAFO08VWszwweTdNK7xxhmRV3lv4sBuAO4/LOKsXPiK1tYZJZIpgsdybZ+FG1sZyeehH41B/wjcdve2c1hLLEIpQ8m6diSAMDHBB6kEHHXrxVr/hHtNNrPbPC8kM0xnZJJC3z+3oPagDPfxIH1S3WNjBaBiszToFBweSGJxgdCfUUf8JUi3dxGsE04MkYg8tRjY20bic9CS2M+mO4rRTQbGO6W4UTblkaRVMxKgk5IAPGMknHTk1APC2liSZwLlfNBDgXDgYyGAAzxgjj0yfWgCofFUQuw4E7QbWBhEIL7wVA24Jz/Hn6U5/EZSze4OQDeBUJQcQAx5Y8+j/XkcVYi8KaZDsKfawY2DKftLZByD1/DB9iR3pT4W0trRLVknMSOXAM7ZOQAVJz93Crx/sigBg8VWrQSSLaXbNEu6SIIA6DAOSpIwOV575z0qrJ4tjT9x9muxKSwaRo0G3AJOBu5K8DHer7eGdOdg7m6aQR+UZDcsWZMdGP8Qzzz35qJfDFq9xdtOZTHJIHi2zMGXK/P+ZJ/DHpQAn/AAkK305sdPR0unXdHLKgMY43DPOeVBI/Wt4ZwM9azbbQbC0u47mFJFkjyF/eEjGCMY9gxA9OPStKgAooooAKKKKACiiigAooooAKKKKAMvXP9TYf9hG2/wDQ66HtXPa5/qbD/sI23/oddD2oApVSvb+W1vtOt47KadLuZo5JU+7bgIWDN7Ejb9TV2igDl/EN1qGmX1vPFeTeRJKWMahdkaDYDuyMleT055qO58VTtpkz/YJbZmjISVZQ5VthbgY5K/LnjHP59Fd6dZ3zwvdW6TNCSY9+flJx/gOvpVVvDeiuQW02AkYweeyhR39AB+AoAo3evyI+ltEgInVXZRJw3mK4jGcdMjJPbHeq0fjTzYndNPJKOodTNgqGBOfu+inj6VtNoOlOIg1hCRChSPg/IpOcDn1J+meKkl0fTp1ZZLKFgxBPy4yQCB09ifzoAw5/Ed3a6zcwtaGePJhgjjk5Lhmx1HVsYPOBgetT6hr88GoRpDaTskb+XgMMTyNHkJ7EErz05rRuNB0m7kkkuLCGR5TudmzyfXr1pbnQ9Lu5JZLixhkeXHmMQfmwMDofTigDIj8WzPcGH+yZPMZiI0WYFmwfmzxgYGT17VJpvih727jimsxAkhCqRIWw21mIzjGSF46dD6c6LeH9IZw50+EsG3g88HOc9fWpLfRtOtJllt7OON16Fc++O/uaAMVdfurk3dzDFsSCCLZGZOGaRx8x4/ulSPQ5FLp/iG4udLmEtpN5lta5mmWUcuACADjqQd3TjkVsjR9OWKSIWcQjkQI6jOGUEkDr2JNNi0LS4fN8uxiTzY/Kkxn5k9DzQBkx+LWLuJNOKgOAu2YMWBIHAx15HH19Klh8Qy3dlcTHT54kiRSXWQfeLDgEj+6yt06HFW5/DWkTRkCxhWTko+CSjY4Iye3H5UWPh6wtLMwvBHI7xrHK/wA3zhTkDlicA9OT254oAjtPEBuo7J3tPLa5uGgKiUNs4BB6cjkfT8s50Hie5eeQJaGSN7hCHeQBYonCFRnHUjcfY+3NbiaLpkbQMtlEDbyGWE8/Ixxkjn2H5VCPDWiqWxpluNwIbAPIJB9fUD/9VAGMnimQ3IuBbXDo8Z/0cODgjYzMMgYwu7g/pmrDeIrm0so5XtPtDTTz4Bm27EVhtGdvPDD8q0k8OaNGECabAAjBlGCcEY9T7CnjQdKW3jtxYxeVEWKJzhdxBPfuQPyoAx5PGDiRli00yY4U+eACc8fwnjHOf51ZtdXutbmSK1gls4sCcXDOCXQMBtC47nIJ7Yq2nhnRIxhNNgUZzgbv8as2elWGnuz2dpHCzAhimeQTn19eaALh60UUUAFFFFABRRRQAUUUUAFFFFAGXrn+psP+wjbf+h10Paue1z/U2H/YRtv/AEOuh7UAUqpXl3dW99p0MFi9xDczMlxMGwLdQhYMfXLAL+NXaKAOT8Vz3ujiPUYru6eN5uYFYhVCqHxx2Ijf/vqq8uu3EeoWkYlcJDMsDEykpIWZQC5x2LYPp+Fdk8SSriSMOv8AtDI9P6mqT6HpMkkjvptozyEs7GIZYnqT60AYV1r+oWmt3MawRTRbvIjQyMoBDHBPB5Izn6CnDxdOzMsenq77VKgSE7twDL29GAPvmt59K06S4NxJY27TFg5kMY3bh0OfWquoeHdPvrfyha28T8AP5Csdu7cVx6E0AYj6zqR8PyBcJcrcPFvaQltu1nXnHBBAB68Cro8Rzz6XLffYQqRzIqgT43tzuHAzgEY5HINa40fTRB5H2GAx7g5UoDlgMBj7470Lo+mrFJEun2wjkYM6CMYYgYBPqQOKAOeXxhdhkWTT4AC4Ris7HaWYKp+703Hn0FKni273NLJZQLBwqJ5p3k7ipPTHb8ufatoaBp4vhcLaQKnktEYxEMNuIJP5DH41LLoulTY83TbV8EkbogcE9TQBgN4jvLnRr6QxRQTYEUXlyN8rFGYndj/Z44ofxXc7JHezjWF0UxKJsOysHw2RnHAX6fiK6A6PppheE6fbeU5UuhiGCQSRkexJ/OmNoGkOFDaXZkKSR+5Xgkkn9ST+JoAyrLXZUs7hHjLzRuBGZWPzh5WVcnHQY2+vHuKpy6zqP9m293Bt3XNxJLseRhhVkQKnTgYODgfzrp00yxSKSJLOARy/fQIMNznn8eaSTS7CaNUksoHRWZwpjBAZjkn6k0AYz+I530uHUEsgFkmKwq0+A67DgtgHvkYPpmoY/FtzIqqunI9ww4jSVj82VwD8uRkMO3X2reGkaaIfJFhbCLeZNgjGN56tj196pXvhjS7uNVjtLaBw6kusCkkA/d/kc9iAaAJdKnn1E/2i5eKJ0KRwbwylc5WTjoSDjFalRW9rBZw+VbQpDHuLbUXAyTkn6knNS0AFFFFABRRRQAUUUUAFFFFABRRRQAUUUUAZeuf6mw/7CNt/6HXQ9q57XP8AU2H/AGEbb/0Ouh7UAUqo3smopfactnDC9q8zC9d2w0cewlSo7nftHfir1FAHJeJLWSDVLa5tZG89hNckGVhjylQnao65AIx0+Y1B/wAJJqb3oAurCOLzTCuYiQ/Mfz/ez91iQB+tdgzwh8s0YZATliMqO/0pfJi4/dR8dPkHFAHLWviK9vdLvLgSQII4FljmRMrgyFM9cfwP+YqtpOu3ElhcWbyWUiWlk7Hc53ONmVOM8gDIY59Oma66O0jikmYZIlwChxtUAYwoxwOp+pNPWOEjKJHgjGVUYIoA40eMLyKRhLJYFS4WNQCpPzAYzu9D19u/Srlj4hv7yC8cGxLQ2pnVUOWbkkHaCeMBgTn7w/Cula2gdCphjwRg4UA1FYWEOn2qQQgkKMF2C7m+uAB+lAHF3mv31ykD+bb2zyJHJhkIJZZCACN3TKscDqCa2ZfEcxlnigktRItpBOu4E7GdkHIyMj58jp25610TRRty0aH3Kg0gED4KiJty8EAHcv8AUdKAOMi1+Q3Onv8AaLKNIJjDLECRhTtBPLcAhsgnOMHrVrVNekg8SpFbzWYby/KQTybVIby33Ej+9yq8dfXpXUGGBsoY4jxyNozj/OacIYhj90nAAHyjgDp+VAHHN4nuru34eyUAkTwTId42qGPR8AHPB5Hy5GQaij8Tak87SzNaSGMB0VIz93azOV+bJOMqevK12pjhUZMcQAHUqAAKis7OCztYbeIKwgQRhmALcepA6/40Ac9N4jvIdOF0z2IxeNC4yThVB3K3PyvlT68EcVRTxfeyRSXAudNEEYf+AksV24534Gdw+neu2MUZ4MaHJzyo6+v1pgjtyAFjhIYZACryP69qAOOg8TXqQSXBa1cMpZ5MYCkcjcc4AC55/wBmuq02Dyrcys4aS4Imk2uWQMQM7M/w+lWdkQygSMbhyu0cj6d6f0oAKKKKACiiigAooooAKKKKACiiigAooooAy9c/1Nh/2Ebb/wBDroe1c9rn+psP+wjbf+h10PagClVK9j1F77Tms54Y7VJmN6jrlpI9hChfQ79p7cD8Ku0UAcv4k01RPFeWcHmXmXkkjAz5yYWN19PuMSPdRWaNd1WWSeUX1wkMTONq2YywCyNnlc/wqOP1rtRdQGR4hPHvRgjJu5DHkAj1NPknWJVMkoUMwQFm6sTgD6k0AcZp+q6pdWl+JLqZHS1klUeQwbcTwyttwNuMAdeRxRouo6jG8lrHIzQwQzSwxNbEGXgkKCAANpI68ndjnt224+p/OmCZJHkjEoZ4yA655XIyM/hzQBxVzrWrjYba6neEkEObXBdSoKnG3jdk5/3e1Vn1jWGs0C31xjBjZVtiHGFUZLFeSQd2R6/hXfpKH3bHztYq2D0I6inbj/eP50AcfqGp6pJowCmQPILhWdI8hwGAGOOBsLMOM5XHOOaup3d5purLLayS4ht0VIxBuXYypnGF45Bbjuv4V3CSrICyPuGSCQe4OD+op24j+I/nQBxup6lqcMlusF6Qz28LPNHaD94TuBPKnA747fjVI+J9Scf8fXlcM2JLYhiAq7sLtydpJYY5wp69K7/cR/EfzqrJFbNqMMzt/pWxgg8wjcoIz8ucHGRzjjPvQBz2p3esQXRjDNLbNZiRpBbgpvA5GCCeSp47bhWfYX99b2WpN9tmQt5TmWSEEo5aNGbleTj1z0ruHkWKNpHcIijLMT0HrTbiFLqExTbim5WwGI5Ugj9QKAONttZ1nzoku7uWMOwEhWyyUy5TIwMYDKoOc/fz05DItY1b9woBX5MB0txhQVTAxt+U7uCOhBBHt28s6RLvllCKWC5Y45JwB+JIFCzK8kkayhnjIDqG5XIyM/hQBheHGmv0a+v8veRM0Su0ewqjBWKgYGQDnmt+ozcwm5+zmZfO27vLJ+bHr+o/OlSWOQuEdWMbbHwfutgHB9+R+dAD6KKjnnitomlnlSONerucAdqAJKKKKACiiigAooooAKKKKACiiigDL1z/AFNh/wBhG2/9Droe1c9rn+psP+wjbf8AoddD2oApVRvbO6uL7TpoL54IbaZnnhVci4UoVCn0wSG/Cr1FAGF4gtZmSKWytd80c6XblYyS5jK4UY/iIJAz6GsKOPW5Z4radNV8kyAtNICQvzoQ2e23DH/9VdTca5p9tctbyzMJVbaQImODweoH+0Pzq2Ggu7MSEK9vNGD868MrDuD6g9KAOWtDrEl7YPIdRSNxAZjGN8ZOC5OScbckKSPT6VVS11i31OTyU1SKGWcrK6KW4D5Vhk4xzgn+7nsK7gKse2MKF4wq4x07AVH9oiN19mDZm2eZtA7ZA/mRQByd/wD24uqzSwrqrQpMxRIiQrLuJwOx4xioNOn1ma+t45ZdTXbJGsieUflA5+bPGOgY8nDDIrtwdzsgVsrgn5Tjn0PemR2sMc8s8cCLLLjzHVMM+BgZPfigDmY21hL7UndNSeLyZhEvIBIf5dme+OntTZW1uWK2UR6gsn2aLcyjC7irBtw/vBwhP+yT1Ga6fz4vtQtg2Zihk2gfwggf1FS4PofyoA8/YeIUKRmbVkmlJ8vLHBkCFgP93Ocj0FSSwa8jxzRDVpJ4BhA65BBVO+fmyCcg4wy+2a7VDb3ZEqoHaCV1VipyrjKtj9RTxNG1y1uCfNVBIRg/dJIBz9VNAHFY8QxCQxNq0q4BXzlIYjYcEY4BBwSO/PfFaNumsW9zcic38iR20vlBCCJTuYL8x6PgIQMfxGunc7ACVYgkL8qk9TjtSbx5vl4Ytgk4U4HTqe3WgDhrVdelnt1vINUeF5oWcOpwpV1OcZ4XAYn3xmlnh1qW/uy0GprG0gdvKX5ZSjAYBz93bgrjqQfeu6xz05+lRyTxxTwwuSJJt2wbTzgZP6UAcQv9vTSo8kOqx/OV3+VueNGYdM9T93PsD9Kn8nWX0wER6nDcSXjPMIyQx+RATx/DuDY+nFdm2EXLcD3pjSolsbhgyxqnmElSCBjPI6/hQBwxbxJMxJj1iLAxgAjqoBPHuCR6Z/GtHR7fUru9Qar/AGiYQjh4p1xESAmw/wC0SCTzj5ge4rqIZY7iCOaI7o5FDKcYyD0qSgAooooAKKKKACiiigAooooAKKKKAMvXP9TYf9hG2/8AQ66HtXPa5/qbD/sI23/oddD2oApVRvdNW9vtNujcTxGxmaUJG2Fl3IyYcdwN2fqKvUUAYPiDT7q7ms2tLfzNhcyEOq4yUx1Iz901hJoGsmIxva5Rdo8tp1KuBzxz8pBwB26+xrqpdatYr/7FsuXmDEEJCSBgAk59AGFaNAHBP4f1ffGFsJPKSJEIW8XcxKgSEFicMeRnp/OrWr6HqUmrT3Npas5IXEi3CqXHlqrLyepCkZI7g12Kvu3fKw2tj5hjPuPUc9ai+1wm8NoHzMEMhA7DIHPoeRxQBy+raHf3U8Yht5nhSGNRuuRnIABz8wycdT3rMay1R7oWtxBOLlkeQQx3iZKkgNyWyNwD8kEAhc4r0ANl2Xaw245I4OfQ0uF3bsDcBjOORQBxur+H7+fVJZoLRnVlVfNFwFZhsRWBOQf4TzVXUNL1SxilndSLdUZWYXKgA4Kg/Mw4csvUjHOSK7iW4jhlgifO6ZiiYHGQpbn04U0l1PFbwF5hmMsqEbd33mCjI9MkUAcjFpOpJpGoLZ2kubl4ni33Chjgt8x+YgHGzqeffFSX2j6rc69cT+RMIHLATQ3KI3cocHsuSuO5Ppmuw9qiFxG1zJbgnzI0WRuOMMSBz/wE0AcZNpGqC0M1zalJ4EctNHdYVsMhDBd3GEDLj2+hKad4ev8A5JI4jHFJsmRmnzhT5fynkk4XzPXqOa7S3njvLWKePJimQOu4YypHcUplSORIz8u4fKcYU+w98AnHoKAOVk0XUZdLtLd4bjd+/Mv+mL8kjDCvkdV+8Qo5GRnvWcul6pcNczW9oxlVmhlj+0jAcIBkZbtn8e9d01xGt0lsSRI0bSDjjaCAefqwqOS7gg8lsEpcOqq8a5UliAMkeuRzQBxa6FrRaJHsWaLzfNk3XSnJypIwW9VB+oq1Z6Hq6X2nzXEbMInXzM3APRhliM8/Idv/AAH6V1kF3Fcyzxx7t0D+W+VwM4zx6ip6AEACqAAAAMYFLRRQAUUUUAFFFFABRRRQAUUUUAFFFFAGXrn+psP+wjbf+h10Paue1z/U2H/YRtv/AEOuh7UAUqpXulwX19p13K8qyWEzTRBGwrFkKEMO4wx/GrtMeWON40eRFaQlUVmALEDOB6nAJ/CgDJ1iwnuL/T7iG1W4W38wspuPK5Ozbn+8PlORXOP4W1V0it2tLVoYoxGD9o+/gtgkEdeRXSX3iGPT7zyJrScLvCCYlQhyV5GT0G/P4GrEes2bNGkk0UTuOUaZSytgnaQDkHaCfwoA5NvCuqfK32WE4+VlF1tLRngoGA4yMfkKt6v4c1C41Oa5tbeFshdrmfYzDYqsucEjIUjPPWuqkvbSLHmXUCZAI3SKMg9O/ftUd7qVrYwzvJKheFGcxB1DnAzgAnrigDm9V8N3V5cR+VaxNCkMaKJJ8kFQAevXjjPesxtJ1E3q2dxbI1y0byrEl2ApUkBuSMjcA4J5wSua7pb+zcKVu7chgCuJVOQemOe9RxarZTTNHHdQMF43CVfvdxjOemDnpzQBiahot/PeM0dvA6K8ZWRpzl4xHtMRBHTIPPfefeqMfhvUIZB9pCTW6bSHa42lAGUvkY+YFQcZ5G0Dng11M+p2sDWu6VCtwzBXDrgAKWLdeny9fenf2jaGQhbm3KrkO4mXCNkDB56/MP8AJFAHMXOi317omlRW0cE8YRmkdpNm5WwF4I5BXGfpTrPQdVisbyN44UmcQiJxKG3bHZgGBHQAhcdwOMcV0UerWMsH2g3dusJBZXaZcMvHzdeByOtLd6jBaeWpdXlldESMOAWLHA69uv5UAcfF4V1UPBEbW1SBOcifOG4OSMc4YZ/EnrV268O3k1tYLHbLGYrZkYfaQ7Ru27ozDDYLemO3SugtdZsLua4jiuIj5LKuTIPmzwCBnPXK/UVM9/bR3HktPCGGQ2ZVBU8YBGc5OaAOa1HQdTvNTjkeGCSDYiSFJzESNqAqBgnCspfrznHWqsHhvVg6iS1gjjARcQ3IHACAkccH5fz9q7A31qd6pcQvIqM+xZVyQOvfgZ4z0FImo2TsVW8ti4wGUTKSpJxg8+pxQAadDLb6bbQz7DMkSrIUGAWAwSAKs1Tm1O3jRWhIuWLhNkDqxHzbSTz0B61c70AFFFFABRRRQAUUUUAFFFFABRRRQAUUUUAZeuf6mw/7CNt/6HXQ9q57XP8AU2H/AGEbb/0Ouh7UAUqqXWm2l7d2V1cRb5rGRpbdskbGZShPvwT1q3RQBkeIdCTX7BLZpmi2OzBh7oy/zYH/AICKzL7wvdXE8kkE1ohZnYblbLZAADY+nP1rqqKAOW1Pwxd3txGYpLGKCO3WJY9jDaQMce3TGeafe+Grq4u7meOSzVpJpHV2Ri7I6FSrHnpubGPQe9dNRQBxg8IagZwz3Fg0YIGwI4+TcSRx37Z/wFWIfCdzjE97GzAYWUKS54YHd0/vde+M966uigDlLzwxez21lHE+nx+TEBJFtk8suCxwOc7W3kHPNQWPhu4NxHeQiziVJpI2hkhba0YkI6f7pJH0X3rsqKAOP/4Q+7aHa9zak5RsbWxlRt9O4Jz7gVfTw9OmoWdyZ4iIDExGDk7UVWA9vkBHuTXQ0UAcl/wid0b9J3kspI1lLFHR/mTI647jqO2QKWPRJdQ1O+mZFgVbp2WRlbefnVhjIAx8rcgkYf2wOsooA5W18LXEDlt9kCbeSElEbLFgyhmz3IKk/Q47VWk8I3+GMc9iCxO4bGyRuB/Pj/Oa7OigDmPC+lzQOL+WGGMPEVAKuJAc8/eAwCMZGM5XqRzXT0DpRQAUUUUAFFFFABRRRQAUUUUAFFFFABRRRQBl65/qbD/sI23/AKHXQ9q57XP9TYf9hG2/9Droe1AH/9k=\" />"
      ],
      "text/plain": [
       "<IPython.core.display.HTML object>"
      ]
     },
     "metadata": {},
     "output_type": "display_data"
    },
    {
     "name": "stdout",
     "output_type": "stream",
     "text": [
      "###IMAGE2###\n"
     ]
    },
    {
     "data": {
      "text/html": [
       "<img src=\"data:image/jpeg;base64,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\" />"
      ],
      "text/plain": [
       "<IPython.core.display.HTML object>"
      ]
     },
     "metadata": {},
     "output_type": "display_data"
    },
    {
     "name": "stdout",
     "output_type": "stream",
     "text": [
      "###IMAGE3###\n"
     ]
    },
    {
     "data": {
      "text/html": [
       "<img src=\"data:image/jpeg;base64,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\" />"
      ],
      "text/plain": [
       "<IPython.core.display.HTML object>"
      ]
     },
     "metadata": {},
     "output_type": "display_data"
    },
    {
     "name": "stdout",
     "output_type": "stream",
     "text": [
      "###IMAGE4###\n"
     ]
    },
    {
     "data": {
      "text/html": [
       "<img src=\"data:image/jpeg;base64,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\" />"
      ],
      "text/plain": [
       "<IPython.core.display.HTML object>"
      ]
     },
     "metadata": {},
     "output_type": "display_data"
    },
    {
     "name": "stdout",
     "output_type": "stream",
     "text": [
      "###TEXT1###\n",
      "Table 5: Instruction-following capability comparison using relative scores on LLaVA-Bench (In-the- Wild). The results are reported in the format of mean ± std. For the first three rows, we report three inference runs. LLaVA performs significantly better than others. † For a given set of LLaVA decoding sequences, we evaluate by querying GPT-4 three times; GPT-4 gives a consistent evaluation.\n",
      "\n",
      "models. We report relative scores w.r.t. the text-only GPT-4 model that uses the textural ground truth description as visual input. We create two benchmarks to evaluate the model’s performance.\n",
      "\n",
      "LLaVA-Bench (COCO). We randomly select 30 images from COCO-Val-2014, and for each image, we generate three types of questions (conversation, detailed description, complex reasoning) using the proposed data generation pipeline in Sec. 3, totaling 90 questions. This benchmark studies the model’s alignment behavior and capabilities with consistent visual inputs. We vary the training datasets to study the effectiveness of different types of instruction-following data, and show the results in Table 4. First, with instruction tuning, the model’s ability of following user instructions improves significantly by over 50 points. Second, adding a small amount of detailed description and complex reasoning questions contributes to a considerable improvement of the model’s overall capability by 7 points. Furthermore, it also improves the model’s performance on conversational questions, suggesting that improvements in reasoning capabilities complement conversational abilities. Finally, we show that having all three types of data yields the best performance at 85.1%.\n",
      "\n",
      "LLaVA-Bench (In-the-Wild). To evaluate the model’s capability in more challenging tasks and generalizability to novel domains, we collect a diverse set of 24 images with 60 questions in total, including indoor and outdoor scenes, memes, paintings, sketches, etc., and associate each image with a highly-detailed and manually-curated description and a proper selection of questions. We compare LLaVA, BLIP, and OpenFlamingo in Table 5. Thanks to visual instruction tuning, LLaVA achieves significantly better performance compared with BLIP-2 (+29%) and OpenFlamingo (+48%). Compared to the text-only GPT-4 that has access to ground-truth labels, LLaVA achieves an impressive 81.7% performance on complex reasoning questions, with an overall score of 67.3%.\n",
      "\n",
      "Limitations. This LLaVA-Bench (In-the-Wild) is designed to be challenging and to reveal a model’s weaknesses. We provide two examples with associated captions and questions in Table 6. For the ramen example (left), to correctly answer the name of the restaurant, it requires the model to have a large knowledge coverage and multilingual understanding capability; to correctly describe the side dishes, the model may need to retrieve relevant multimodal information from Internet. For the fridge example (right), perceiving the correct brand of the yogurt requires the model to process high resolution images and possess extensive knowledge coverage. We also observed an interesting failure of LLaVA, as it responds with yes when asked if strawberry-flavored yogurt is present, even though the fridge contains only yogurt and strawberries. This indicates that, at times, LLaVA perceives the image as a “bag of patches”, failing to grasp the complex semantics within the image. We hope LLaVA serves as a solid baseline on the benchmarks, on which our findings can inspire future work in developing more capable LMMs.\n",
      "\n",
      "7\n",
      "\n",
      "Challenging examples from LLaVA-Bench (In-the-Wild):\n",
      "\n",
      "###TEXT2###\n",
      "5 Experiments\n",
      "\n",
      "We assess the performance of LLaVA in instruction-following and visual reasoning capabilities with two primary experimental settings: multimodal chatbot and the ScienceQA dataset, respectively. We train all models with 8× A100s, following Vicuna’s hyperparameters [9]. We pre-train our model on the filtered CC-595K subset for 1 epoch with a learning rate of 2e-3 and a batch size of 128, and fine-tune on the proposed LLaVA-Instruct-158K dataset for 3 epochs, with a learning rate of 2e-5 and a batch size of 32. See Appendix for more training details.\n",
      "\n",
      "5.1 Multimodal Chatbot\n",
      "\n",
      "We developed a chatbot demo to show the image understanding and conversation abilities of LLaVA, and to study how well LLaVA is able to digest visual inputs and exhibit instruction-following capabilities. We first use the examples in the original GPT-4 paper [36], shown in Table 3 (more examples in Appendix), that require in-depth image understanding. For comparisons, we quote the prompt and response of the multimodal GPT-4 from their paper, and query BLIP-2 and OpenFlamingo model checkpoints to get their response.\n",
      "\n",
      "5\n",
      "\n",
      "Visual input example, Extreme Ironing:\n",
      "\n",
      "Source: https://www.barnorama.com/wp-content/uploads/2016/12/03-Confusing-Pictures.jpg What is unusual about this image? The unusual aspect of this image is a man ironing clothes on the back of a minivan or van. This is not a typical place to perform this activity, as one would usually iron clothes in a more stationary and safe location, such as a home, using a regular ironing board. The scene depicted in the image is peculiar as it involves a makeshift ironing setup on a vehicle, which can be both unsafe and unconventional. Additionally, it is not clear how the man is able to maintain balance and stability while ironing clothes in such an unstable environment. [Start a new conversation, and clear the history] What’s happening in the scene? The image depicts a man standing on top of a yellow SUV in a busy city street. He is holding a portable ladder, seemingly ironing clothes while standing on the vehicle. Around the scene, there are other cars, a traffic light, and a fire hydrant. Additionally, there are two other people in the vicinity, one close to the man on the car and another further away. The man on the ladder appears to be attracting attention due to his unconventional choice of ironing his clothes on top of a moving car. The city street around him is bustling with activity, adding to the unique nature of the scene.\n",
      "\n",
      "###TEXT3###\n",
      "Conversation Detail description Complex reasoning All OpenFlamingo [5] BLIP-2 [28] LLaVA LLaVA† 19.3 ± 0.5 54.6 ± 1.4 57.3 ± 1.9 58.8 ± 0.6 19.0 ± 0.5 29.1 ± 1.2 52.5 ± 6.3 49.2 ± 0.8 19.1 ± 0.7 32.9 ± 0.7 81.7 ± 1.8 81.4 ± 0.3 19.1 ± 0.4 38.1 ± 1.0 67.3 ± 2.0 66.7 ± 0.3\n",
      "\n",
      "###TEXT4###\n",
      "6 Conclusion\n",
      "\n",
      "This paper demonstrated the effectiveness of visual instruction tuning. We presented an automatic pipeline to create language-image instruction-following data, based on which we train LLaVA, a multimodal model to follow human intent to complete visual tasks. It achieves the new SoTA accuracy when fine-tuned on ScienceQA, and excellent visual chat capabilities when fine-tuned on multimodal chat data. Besides, we present the first benchmark to study multimodal instruction- following capability. This paper is an initial step in visual instruction tuning, and mainly focuses on real-life tasks. For more quantitative results of LLaVA on academic benchmarks, please refer to the improved baselines with visual instruction tuning [32]. We hope our work can inspire future research on building more capable multimodal models.\n",
      "\n",
      "Acknowledgements. We thank Baolin Peng and Pan Lu for valuable discussions on instruction-tuning language models and Science QA, respectively. We thank the LLaMA team for giving us access\n",
      "\n",
      "9\n",
      "\n",
      "to their models, and open-source projects, including Alpaca and Vicuna. This work was supported in part by NSF CAREER IIS2150012, and Institute of Information & communications Technology Planning & Evaluation(IITP) grants funded by the Korea government(MSIT) (No. 2022-0-00871, Development of AI Autonomy and Knowledge Enhancement for AI Agent Collaboration) and (No. RS-2022-00187238, Development of Large Korean Language Model Technology for Efficient Pre-training).\n",
      "\n"
     ]
    }
   ],
   "source": [
    "displayRAG(\"What is the performance of LLaVA across multiple image domains / subjects?\")"
   ]
  }
 ],
 "metadata": {
  "kernelspec": {
   "display_name": "base",
   "language": "python",
   "name": "python3"
  },
  "language_info": {
   "codemirror_mode": {
    "name": "ipython",
    "version": 3
   },
   "file_extension": ".py",
   "mimetype": "text/x-python",
   "name": "python",
   "nbconvert_exporter": "python",
   "pygments_lexer": "ipython3",
   "version": "3.11.7"
  }
 },
 "nbformat": 4,
 "nbformat_minor": 2
}
