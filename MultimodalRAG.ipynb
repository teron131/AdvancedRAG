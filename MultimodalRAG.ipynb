{
 "cells": [
  {
   "cell_type": "code",
   "execution_count": 1,
   "metadata": {},
   "outputs": [],
   "source": [
    "! pip install --quiet -U pdf2image pytesseract unstructured[all-docs] pillow pydantic lxml pillow matplotlib tiktoken open_clip_torch torch langchain openai chromadb langchain-experimental\n",
    "#! apt install poppler-utils\n",
    "#! apt install tesseract-ocr"
   ]
  },
  {
   "cell_type": "markdown",
   "metadata": {},
   "source": [
    "# Load and extract elements from the PDF"
   ]
  },
  {
   "cell_type": "code",
   "execution_count": 2,
   "metadata": {},
   "outputs": [],
   "source": [
    "path = \"LLaMA2/\"\n",
    "filename = \"LLaMA2.pdf\""
   ]
  },
  {
   "cell_type": "code",
   "execution_count": 3,
   "metadata": {},
   "outputs": [
    {
     "name": "stderr",
     "output_type": "stream",
     "text": [
      "This function will be deprecated in a future release and `unstructured` will simply use the DEFAULT_MODEL from `unstructured_inference.model.base` to set default model name\n",
      "2024-03-04 04:12:50.869873: I tensorflow/core/util/port.cc:113] oneDNN custom operations are on. You may see slightly different numerical results due to floating-point round-off errors from different computation orders. To turn them off, set the environment variable `TF_ENABLE_ONEDNN_OPTS=0`.\n",
      "2024-03-04 04:12:50.915030: E external/local_xla/xla/stream_executor/cuda/cuda_dnn.cc:9261] Unable to register cuDNN factory: Attempting to register factory for plugin cuDNN when one has already been registered\n",
      "2024-03-04 04:12:50.915075: E external/local_xla/xla/stream_executor/cuda/cuda_fft.cc:607] Unable to register cuFFT factory: Attempting to register factory for plugin cuFFT when one has already been registered\n",
      "2024-03-04 04:12:50.917036: E external/local_xla/xla/stream_executor/cuda/cuda_blas.cc:1515] Unable to register cuBLAS factory: Attempting to register factory for plugin cuBLAS when one has already been registered\n",
      "2024-03-04 04:12:50.926452: I tensorflow/core/platform/cpu_feature_guard.cc:182] This TensorFlow binary is optimized to use available CPU instructions in performance-critical operations.\n",
      "To enable the following instructions: AVX2 AVX512F AVX512_VNNI FMA, in other operations, rebuild TensorFlow with the appropriate compiler flags.\n",
      "2024-03-04 04:12:51.999939: W tensorflow/compiler/tf2tensorrt/utils/py_utils.cc:38] TF-TRT Warning: Could not find TensorRT\n",
      "Some weights of the model checkpoint at microsoft/table-transformer-structure-recognition were not used when initializing TableTransformerForObjectDetection: ['model.backbone.conv_encoder.model.layer3.0.downsample.1.num_batches_tracked', 'model.backbone.conv_encoder.model.layer2.0.downsample.1.num_batches_tracked', 'model.backbone.conv_encoder.model.layer4.0.downsample.1.num_batches_tracked']\n",
      "- This IS expected if you are initializing TableTransformerForObjectDetection from the checkpoint of a model trained on another task or with another architecture (e.g. initializing a BertForSequenceClassification model from a BertForPreTraining model).\n",
      "- This IS NOT expected if you are initializing TableTransformerForObjectDetection from the checkpoint of a model that you expect to be exactly identical (initializing a BertForSequenceClassification model from a BertForSequenceClassification model).\n"
     ]
    },
    {
     "name": "stdout",
     "output_type": "stream",
     "text": [
      "Text: 114\n",
      "Tables: 50\n",
      "Images: 47\n"
     ]
    }
   ],
   "source": [
    "import os\n",
    "from typing import Any\n",
    "\n",
    "from pydantic import BaseModel\n",
    "from unstructured.partition.pdf import partition_pdf\n",
    "\n",
    "# Extract images, tables, and chunk text\n",
    "raw_pdf_elements = partition_pdf(\n",
    "    filename=os.path.join(path, filename),\n",
    "    extract_images_in_pdf=True,\n",
    "    infer_table_structure=True,\n",
    "    chunking_strategy=\"by_title\",\n",
    "    max_characters=4000,\n",
    "    new_after_n_chars=3800,\n",
    "    combine_text_under_n_chars=2000,\n",
    "    extract_image_block_output_dir=path,\n",
    ")\n",
    "\n",
    "# Create a dictionary to store counts of each type\n",
    "category_counts = {}\n",
    "\n",
    "for element in raw_pdf_elements:\n",
    "    category = str(type(element))\n",
    "    if category in category_counts:\n",
    "        category_counts[category] += 1\n",
    "    else:\n",
    "        category_counts[category] = 1\n",
    "\n",
    "\n",
    "# Unique_categories will have unique elements\n",
    "unique_categories = set(category_counts.keys())\n",
    "\n",
    "\n",
    "class Element(BaseModel):\n",
    "    type: str\n",
    "    text: Any\n",
    "\n",
    "\n",
    "# Categorize by type\n",
    "categorized_elements = []\n",
    "for element in raw_pdf_elements:\n",
    "    if \"unstructured.documents.elements.Table\" in str(type(element)):\n",
    "        categorized_elements.append(Element(type=\"table\", text=str(element)))\n",
    "    elif \"unstructured.documents.elements.CompositeElement\" in str(type(element)):\n",
    "        categorized_elements.append(Element(type=\"text\", text=str(element)))\n",
    "\n",
    "# Text count\n",
    "text_elements = [e for e in categorized_elements if e.type == \"text\"]\n",
    "print(f\"Text: {len(text_elements)}\")\n",
    "\n",
    "# Tables count\n",
    "table_elements = [e for e in categorized_elements if e.type == \"table\"]\n",
    "print(f\"Tables: {len(table_elements)}\")\n",
    "\n",
    "# Images count\n",
    "image_count = len([name for name in os.listdir(path) if name.endswith(\".jpg\")])\n",
    "print(f\"Images: {image_count}\")"
   ]
  },
  {
   "cell_type": "markdown",
   "metadata": {},
   "source": [
    "# Generate summaries of the texts and tables"
   ]
  },
  {
   "cell_type": "code",
   "execution_count": 4,
   "metadata": {},
   "outputs": [
    {
     "name": "stdout",
     "output_type": "stream",
     "text": [
      "Tokens Used: 82222\n",
      "\tPrompt Tokens: 59927\n",
      "\tCompletion Tokens: 22295\n",
      "Successful Requests: 114\n",
      "Total Cost (USD): $1.26812\n",
      "\n",
      "Tokens Used: 28651\n",
      "\tPrompt Tokens: 17450\n",
      "\tCompletion Tokens: 11201\n",
      "Successful Requests: 50\n",
      "Total Cost (USD): $0.5105299999999998\n",
      "\n"
     ]
    }
   ],
   "source": [
    "from langchain_core.prompts.chat import ChatPromptTemplate\n",
    "from langchain_openai.chat_models import ChatOpenAI\n",
    "from langchain_core.output_parsers import StrOutputParser\n",
    "from langchain_community.callbacks.manager import get_openai_callback\n",
    "\n",
    "\n",
    "# Prompt\n",
    "prompt_text = \"\"\"You are an assistant tasked with summarizing tables and text. \\\n",
    "Give a concise summary of the table or text. Table or text chunk: {element} \"\"\"\n",
    "prompt = ChatPromptTemplate.from_template(prompt_text)\n",
    "\n",
    "# Summary chain\n",
    "model = ChatOpenAI(model=\"gpt-4-turbo-preview\", temperature=0)\n",
    "summarize_chain = {\"element\": lambda x: x} | prompt | model | StrOutputParser()\n",
    "\n",
    "# Apply to texts\n",
    "texts = [i.text for i in text_elements]\n",
    "with get_openai_callback() as callback:\n",
    "    text_summaries = summarize_chain.batch(texts)\n",
    "    print(callback, end=\"\\n\\n\")\n",
    "\n",
    "# Apply to tables\n",
    "tables = [i.text for i in table_elements]\n",
    "with get_openai_callback() as callback:\n",
    "    table_summaries = summarize_chain.batch(tables)\n",
    "    print(callback, end=\"\\n\\n\")"
   ]
  },
  {
   "cell_type": "markdown",
   "metadata": {},
   "source": [
    "# Text retriever by understanding the summaries"
   ]
  },
  {
   "cell_type": "code",
   "execution_count": 5,
   "metadata": {},
   "outputs": [],
   "source": [
    "import uuid\n",
    "\n",
    "from langchain.retrievers.multi_vector import MultiVectorRetriever\n",
    "from langchain.storage.in_memory import InMemoryStore\n",
    "from langchain_community.vectorstores.chroma import Chroma\n",
    "from langchain_core.documents import Document\n",
    "from langchain_openai.embeddings import OpenAIEmbeddings\n",
    "\n",
    "# The text_vectorstore to use to index the child chunks\n",
    "text_vectorstore = Chroma(\n",
    "    collection_name=str(path.replace(\"/\", \"_\")) + \"text_vectorstore\",\n",
    "    embedding_function=OpenAIEmbeddings(model=\"text-embedding-3-large\", dimensions=1024),\n",
    ")\n",
    "\n",
    "# The storage layer for the parent documents\n",
    "store = InMemoryStore()\n",
    "id_key = \"doc_id\"\n",
    "\n",
    "# The text_retriever (empty to start)\n",
    "text_retriever = MultiVectorRetriever(\n",
    "    vectorstore=text_vectorstore,\n",
    "    docstore=store,\n",
    "    id_key=id_key,\n",
    "    # search_kwargs={\"k\": 3},\n",
    ")\n",
    "\n",
    "# Add texts\n",
    "doc_ids = [str(uuid.uuid4()) for _ in texts]\n",
    "summary_texts = [Document(page_content=s, metadata={id_key: doc_ids[i]}) for i, s in enumerate(text_summaries)]\n",
    "text_retriever.vectorstore.add_documents(summary_texts)\n",
    "text_retriever.docstore.mset(list(zip(doc_ids, texts)))\n",
    "\n",
    "# Add tables\n",
    "table_ids = [str(uuid.uuid4()) for _ in tables]\n",
    "summary_tables = [Document(page_content=s, metadata={id_key: table_ids[i]}) for i, s in enumerate(table_summaries)]\n",
    "text_retriever.vectorstore.add_documents(summary_tables)\n",
    "text_retriever.docstore.mset(list(zip(table_ids, tables)))"
   ]
  },
  {
   "cell_type": "markdown",
   "metadata": {},
   "source": [
    "# Image processing and image retriever"
   ]
  },
  {
   "cell_type": "code",
   "execution_count": 7,
   "metadata": {},
   "outputs": [],
   "source": [
    "import base64\n",
    "import io\n",
    "\n",
    "from IPython.display import HTML\n",
    "from PIL import Image\n",
    "\n",
    "\n",
    "def resize_base64_image(base64_string, max_size=(512, 512)):\n",
    "    \"\"\"\n",
    "    Resize an image encoded as a Base64 string.\n",
    "\n",
    "    Args:\n",
    "    base64_string (str): Base64 string of the original image.\n",
    "    max_size (tuple): Desired maximum size of the image as (width, height).\n",
    "\n",
    "    Returns:\n",
    "    str: Base64 string of the resized image.\n",
    "    \"\"\"\n",
    "    # Decode the Base64 string\n",
    "    img_data = base64.b64decode(base64_string)\n",
    "    img = Image.open(io.BytesIO(img_data))\n",
    "\n",
    "    # Calculate the new size maintaining the aspect ratio\n",
    "    original_width, original_height = img.size\n",
    "    ratio = min(max_size[0] / original_width, max_size[1] / original_height)\n",
    "    new_size = (int(original_width * ratio), int(original_height * ratio))\n",
    "\n",
    "    # Resize the image\n",
    "    resized_img = img.resize(new_size, Image.LANCZOS)\n",
    "\n",
    "    # Save the resized image to a bytes buffer\n",
    "    buffered = io.BytesIO()\n",
    "    resized_img.save(buffered, format=img.format)\n",
    "\n",
    "    # Encode the resized image to Base64\n",
    "    return base64.b64encode(buffered.getvalue()).decode(\"utf-8\")\n",
    "\n",
    "\n",
    "def is_base64(s):\n",
    "    \"\"\"Check if a string is Base64 encoded\"\"\"\n",
    "    try:\n",
    "        return base64.b64encode(base64.b64decode(s)) == s.encode()\n",
    "    except Exception:\n",
    "        return False\n",
    "\n",
    "\n",
    "def plt_img_base64(img_base64, max_size=(512, 512)):\n",
    "    # Resize the image before displaying\n",
    "    resized_img_base64 = resize_base64_image(img_base64, max_size=max_size)\n",
    "\n",
    "    # Create an HTML img tag with the base64 string as the source\n",
    "    image_html = f'<img src=\"data:image/jpeg;base64,{resized_img_base64}\" />'\n",
    "\n",
    "    # Display the image by rendering the HTML\n",
    "    display(HTML(image_html))"
   ]
  },
  {
   "cell_type": "code",
   "execution_count": 8,
   "metadata": {},
   "outputs": [],
   "source": [
    "from langchain_experimental.open_clip import OpenCLIPEmbeddings\n",
    "\n",
    "\n",
    "# Create chroma\n",
    "image_vectorstore = Chroma(\n",
    "    collection_name=str(path.replace(\"/\", \"_\")) + \"image_vectorstore\",\n",
    "    embedding_function=OpenCLIPEmbeddings(),\n",
    ")\n",
    "\n",
    "# Add images\n",
    "# Get image URIs with .jpg extension only\n",
    "image_uris = sorted([os.path.join(path, image_name) for image_name in os.listdir(path) if image_name.endswith(\".jpg\")])\n",
    "image_vectorstore.add_images(uris=image_uris)\n",
    "\n",
    "# Make retriever\n",
    "image_retriever = image_vectorstore.as_retriever(\n",
    "    # search_kwargs={\"k\": 3},\n",
    ")"
   ]
  },
  {
   "cell_type": "markdown",
   "metadata": {},
   "source": [
    "# RAG chain with ensemble retriever"
   ]
  },
  {
   "cell_type": "code",
   "execution_count": 10,
   "metadata": {},
   "outputs": [],
   "source": [
    "from operator import itemgetter\n",
    "\n",
    "from langchain.retrievers.ensemble import EnsembleRetriever\n",
    "from langchain_core.messages import HumanMessage\n",
    "from langchain_core.output_parsers import StrOutputParser\n",
    "from langchain_core.runnables import (\n",
    "    RunnableLambda,\n",
    "    RunnableParallel,\n",
    "    RunnablePassthrough,\n",
    ")\n",
    "from langchain_openai.chat_models import ChatOpenAI\n",
    "\n",
    "\n",
    "def prompt_func(data_dict):\n",
    "    # Joining the context texts into a single string\n",
    "    formatted_texts = \"\\n\".join(data_dict[\"context\"][\"texts\"])\n",
    "    messages = []\n",
    "\n",
    "    # Adding image(s) to the messages if present\n",
    "    if data_dict[\"context\"][\"images\"]:\n",
    "        image_message = {\n",
    "            \"type\": \"image_url\",\n",
    "            \"image_url\": {\"url\": f\"data:image/jpeg;base64,{data_dict['context']['images'][0]}\"},\n",
    "        }\n",
    "        messages.append(image_message)\n",
    "\n",
    "    # Adding the text message for analysis\n",
    "    text_message = {\n",
    "        \"type\": \"text\",\n",
    "        \"text\": (\n",
    "            \"As a secretary, your task is to extract and interpret both textual and visual information from the document, leveraging the rich context provided. The content has been sourced based on specific keywords input by the user.\"\n",
    "            \"**If the document does not contain direct references or clear data relevant to the user's query, you must clearly state 'No sufficient reference available to provide an answer' and refrain from answering further.**\"\n",
    "            f\"Keywords provided by the user: {data_dict['question']}\\n\\n\"\n",
    "            \"Extracted content:\\n\"\n",
    "            f\"{formatted_texts}\"\n",
    "        ),\n",
    "    }\n",
    "    messages.append(text_message)\n",
    "\n",
    "    return [HumanMessage(content=messages)]\n",
    "\n",
    "\n",
    "def split_image_text_types(docs):\n",
    "    \"\"\"Split numpy array images and texts\"\"\"\n",
    "    images = []\n",
    "    text = []\n",
    "    for doc in docs:\n",
    "        doc = doc.page_content  # Extract Document contents\n",
    "        if is_base64(doc):\n",
    "            # Resize image to avoid OAI server error\n",
    "            images.append(resize_base64_image(doc, max_size=(512, 512)))  # base64 encoded str\n",
    "        else:\n",
    "            text.append(doc)\n",
    "    return {\"images\": images, \"texts\": text}"
   ]
  },
  {
   "cell_type": "code",
   "execution_count": 11,
   "metadata": {},
   "outputs": [],
   "source": [
    "model = ChatOpenAI(temperature=0, model=\"gpt-4-vision-preview\", max_tokens=4096)\n",
    "\n",
    "ensemble_retriever = EnsembleRetriever(retrievers=[text_retriever, image_retriever], weights=[0.5, 0.5])\n",
    "\n",
    "# RAG pipeline\n",
    "chain = {\n",
    "    \"context\": ensemble_retriever | RunnableLambda(split_image_text_types),\n",
    "    \"question\": RunnablePassthrough(),\n",
    "} | RunnableParallel(\n",
    "    {\n",
    "        \"response\": prompt_func | model | StrOutputParser(),\n",
    "        \"context\": itemgetter(\"context\"),\n",
    "    }\n",
    ")"
   ]
  },
  {
   "cell_type": "markdown",
   "metadata": {},
   "source": [
    "# Helper function for Q&A"
   ]
  },
  {
   "cell_type": "code",
   "execution_count": 12,
   "metadata": {},
   "outputs": [],
   "source": [
    "from langchain_community.callbacks.manager import get_openai_callback\n",
    "\n",
    "\n",
    "def displayRAG(question):\n",
    "    print(\"###QUESTION###\")\n",
    "    print(question, end=\"\\n\\n\")\n",
    "\n",
    "    with get_openai_callback() as callback:\n",
    "        response = chain.invoke(question)\n",
    "        print(callback, end=\"\\n\\n\")\n",
    "\n",
    "    print(\"###ANSWER###\")\n",
    "    print(response[\"response\"], end=\"\\n\\n\")\n",
    "\n",
    "    for i, image in enumerate(response[\"context\"][\"images\"]):\n",
    "        print(f\"###IMAGE{i+1}###\")\n",
    "        plt_img_base64(image)\n",
    "\n",
    "    for i, text in enumerate(response[\"context\"][\"texts\"]):\n",
    "        print(f\"###TEXT{i+1}###\")\n",
    "        print(text, end=\"\\n\\n\")"
   ]
  },
  {
   "cell_type": "code",
   "execution_count": 13,
   "metadata": {},
   "outputs": [
    {
     "name": "stdout",
     "output_type": "stream",
     "text": [
      "###QUESTION###\n",
      "What is the training tokens of LLaMA1 33B?\n",
      "\n",
      "Tokens Used: 2274\n",
      "\tPrompt Tokens: 2146\n",
      "\tCompletion Tokens: 128\n",
      "Successful Requests: 1\n",
      "Total Cost (USD): $0.0253\n",
      "\n",
      "###ANSWER###\n",
      "The user's query is about the training tokens of LLaMA1 33B. The extracted content provides information about the Llama 2 family of models and their training details, including the number of tokens they were trained on. According to the content, the Llama 1 models with parameters of 7B, 13B, 33B, and 65B were trained on 1.0T, 1.0T, 1.4T, and 1.4T tokens respectively. Therefore, the LLaMA1 33B model was pretrained on 1.4 trillion tokens.\n",
      "\n",
      "###IMAGE1###\n"
     ]
    },
    {
     "data": {
      "text/html": [
       "<img src=\"data:image/jpeg;base64,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\" />"
      ],
      "text/plain": [
       "<IPython.core.display.HTML object>"
      ]
     },
     "metadata": {},
     "output_type": "display_data"
    },
    {
     "name": "stdout",
     "output_type": "stream",
     "text": [
      "###IMAGE2###\n"
     ]
    },
    {
     "data": {
      "text/html": [
       "<img src=\"data:image/jpeg;base64,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\" />"
      ],
      "text/plain": [
       "<IPython.core.display.HTML object>"
      ]
     },
     "metadata": {},
     "output_type": "display_data"
    },
    {
     "name": "stdout",
     "output_type": "stream",
     "text": [
      "###IMAGE3###\n"
     ]
    },
    {
     "data": {
      "text/html": [
       "<img src=\"data:image/jpeg;base64,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\" />"
      ],
      "text/plain": [
       "<IPython.core.display.HTML object>"
      ]
     },
     "metadata": {},
     "output_type": "display_data"
    },
    {
     "name": "stdout",
     "output_type": "stream",
     "text": [
      "###IMAGE4###\n"
     ]
    },
    {
     "data": {
      "text/html": [
       "<img src=\"data:image/jpeg;base64,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\" />"
      ],
      "text/plain": [
       "<IPython.core.display.HTML object>"
      ]
     },
     "metadata": {},
     "output_type": "display_data"
    },
    {
     "name": "stdout",
     "output_type": "stream",
     "text": [
      "###TEXT1###\n",
      "Table 1: Llama 2 family of models. Token counts refer to pretraining data only. All models are trained with a global batch-size of 4M tokens. Bigger models — 34B and 70B — use Grouped-Query Attention (GQA) for improved inference scalability.\n",
      "\n",
      "2.2 2.1 2.0 19 1.8 Train PPL 17 1.6 15 14 0 250 500 750 1000 1250 1500 1750 2000 Processed Tokens (Billions)\n",
      "\n",
      "Figure 5: Training Loss for Llama 2 models. We compare the training loss of the Llama 2 family of models. We observe that after pretraining on 2T Tokens, the models still did not show any sign of saturation.\n",
      "\n",
      "Tokenizer. We use the same tokenizer as Llama 1; it employs a bytepair encoding (BPE) algorithm (Sennrich et al., 2016) using the implementation from SentencePiece (Kudo and Richardson, 2018). As with Llama 1, we split all numbers into individual digits and use bytes to decompose unknown UTF-8 characters. The total vocabulary size is 32k tokens.\n",
      "\n",
      "2.2.1 Training Hardware & Carbon Footprint\n",
      "\n",
      "Training Hardware. We pretrained our models on Meta’s Research Super Cluster (RSC) (Lee and Sengupta, 2022) as well as internal production clusters. Both clusters use NVIDIA A100s. There are two key differences between the two clusters, with the first being the type of interconnect available: RSC uses NVIDIA Quantum InfiniBand while our production cluster is equipped with a RoCE (RDMA over converged Ethernet) solution based on commodity ethernet Switches. Both of these solutions interconnect 200 Gbps end-points. The second difference is the per-GPU power consumption cap — RSC uses 400W while our production cluster uses 350W. With this two-cluster setup, we were able to compare the suitability of these different types of interconnect for large scale training. RoCE (which is a more affordable, commercial interconnect network)\n",
      "\n",
      "6\n",
      "\n",
      "###TEXT2###\n",
      "2 Pretraining\n",
      "\n",
      "To create the new family of Llama 2 models, we began with the pretraining approach described in Touvron et al. (2023), using an optimized auto-regressive transformer, but made several changes to improve performance. Specifically, we performed more robust data cleaning, updated our data mixes, trained on 40% more total tokens, doubled the context length, and used grouped-query attention (GQA) to improve inference scalability for our larger models. Table 1 compares the attributes of the new Llama 2 models with the Llama 1 models.\n",
      "\n",
      "2.1 Pretraining Data\n",
      "\n",
      "Our training corpus includes a new mix of data from publicly available sources, which does not include data from Meta’s products or services. We made an effort to remove data from certain sites known to contain a high volume of personal information about private individuals. We trained on 2 trillion tokens of data as this provides a good performance–cost trade-off, up-sampling the most factual sources in an effort to increase knowledge and dampen hallucinations.\n",
      "\n",
      "We performed a variety of pretraining data investigations so that users can better understand the potential capabilities and limitations of our models; results can be found in Section 4.1.\n",
      "\n",
      "2.2 Training Details\n",
      "\n",
      "We adopt most of the pretraining setting and model architecture from Llama 1. We use the standard transformer architecture (Vaswani et al., 2017), apply pre-normalization using RMSNorm (Zhang and Sennrich, 2019), use the SwiGLU activation function (Shazeer, 2020), and rotary positional embeddings (RoPE, Su et al. 2022). The primary architectural differences from Llama 1 include increased context length and grouped-query attention (GQA). We detail in Appendix Section A.2.1 each of these differences with ablation experiments to demonstrate their importance.\n",
      "\n",
      "Hyperparameters. We trained using the AdamW optimizer (Loshchilov and Hutter, 2017), with β1 = 0.9, β2 = 0.95, eps = 10−5. We use a cosine learning rate schedule, with warmup of 2000 steps, and decay final learning rate down to 10% of the peak learning rate. We use a weight decay of 0.1 and gradient clipping of 1.0. Figure 5 (a) shows the training loss for Llama 2 with these hyperparameters.\n",
      "\n",
      "5\n",
      "\n",
      "###TEXT3###\n",
      "Llama 1 Llama 2 Training Data See Touvron et al. (2023) A new mix of publicly available online data Params 7B 13B 33B 65B 7B 13B 34B 70B Context Length 2k 2k 2k 2k 4k 4k 4k 4k GQA ✗ ✗ ✗ ✗ ✗ ✗ ✓ ✓ Tokens 1.0T 1.0T 1.4T 1.4T 2.0T 2.0T 2.0T 2.0T LR 3.0 × 10−4 3.0 × 10−4 1.5 × 10−4 1.5 × 10−4 3.0 × 10−4 3.0 × 10−4 1.5 × 10−4 1.5 × 10−4\n",
      "\n",
      "###TEXT4###\n",
      "1. Llama 2, an updated version of Llama 1, trained on a new mix of publicly available data. We also increased the size of the pretraining corpus by 40%, doubled the context length of the model, and adopted grouped-query attention (Ainslie et al., 2023). We are releasing variants of Llama 2 with 7B, 13B, and 70B parameters. We have also trained 34B variants, which we report on in this paper but are not releasing.§\n",
      "\n",
      "2. Llama 2-Chat, a fine-tuned version of Llama 2 that is optimized for dialogue use cases. We release variants of this model with 7B, 13B, and 70B parameters as well.\n",
      "\n",
      "We believe that the open release of LLMs, when done safely, will be a net benefit to society. Like all LLMs, Llama 2 is a new technology that carries potential risks with use (Bender et al., 2021b; Weidinger et al., 2021; Solaiman et al., 2023). Testing conducted to date has been in English and has not — and could not — cover all scenarios. Therefore, before deploying any applications of Llama 2-Chat, developers should perform safety testing and tuning tailored to their specific applications of the model. We provide a responsible use guide¶ and code examples‖ to facilitate the safe deployment of Llama 2 and Llama 2-Chat. More details of our responsible release strategy can be found in Section 5.3.\n",
      "\n",
      "The remainder of this paper describes our pretraining methodology (Section 2), fine-tuning methodology (Section 3), approach to model safety (Section 4), key observations and insights (Section 5), relevant related work (Section 6), and conclusions (Section 7).\n",
      "\n",
      "‡https://ai.meta.com/resources/models-and-libraries/llama/ §We are delaying the release of the 34B model due to a lack of time to sufficiently red team. ¶https://ai.meta.com/llama ‖https://github.com/facebookresearch/llama\n",
      "\n",
      "4\n",
      "\n",
      "CURT FEEDBACK Te Kd Y Y O safety Reward Model Rejection Proximal Policy Sampling Optimization 4 Human preference data Helpful Reward Model LK se @ coe Pretraining data\n",
      "\n",
      "Figure 4: Training of Llama 2-Chat: This process begins with the pretraining of Llama 2 using publicly available online sources. Following this, we create an initial version of Llama 2-Chat through the application of supervised fine-tuning. Subsequently, the model is iteratively refined using Reinforcement Learning with Human Feedback (RLHF) methodologies, specifically through rejection sampling and Proximal Policy Optimization (PPO). Throughout the RLHF stage, the accumulation of iterative reward modeling data in parallel with model enhancements is crucial to ensure the reward models remain within distribution.\n",
      "\n"
     ]
    }
   ],
   "source": [
    "displayRAG(\"What is the training tokens of LLaMA1 33B?\")"
   ]
  }
 ],
 "metadata": {
  "kernelspec": {
   "display_name": "base",
   "language": "python",
   "name": "python3"
  },
  "language_info": {
   "codemirror_mode": {
    "name": "ipython",
    "version": 3
   },
   "file_extension": ".py",
   "mimetype": "text/x-python",
   "name": "python",
   "nbconvert_exporter": "python",
   "pygments_lexer": "ipython3",
   "version": "3.11.7"
  }
 },
 "nbformat": 4,
 "nbformat_minor": 2
}
